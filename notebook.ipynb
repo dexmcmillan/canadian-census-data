{
 "metadata": {
  "language_info": {
   "codemirror_mode": {
    "name": "ipython",
    "version": 3
   },
   "file_extension": ".py",
   "mimetype": "text/x-python",
   "name": "python",
   "nbconvert_exporter": "python",
   "pygments_lexer": "ipython3",
   "version": 3
  },
  "orig_nbformat": 2
 },
 "nbformat": 4,
 "nbformat_minor": 2,
 "cells": [
  {
   "source": [
    "# Linear regression of vaccination rates and census data\n",
    "\n",
    "Let's begin by importing everything we need."
   ],
   "cell_type": "markdown",
   "metadata": {}
  },
  {
   "cell_type": "code",
   "execution_count": null,
   "metadata": {},
   "outputs": [],
   "source": [
    "import pandas as pd\n",
    "import numpy as np\n",
    "from sklearn.linear_model import LinearRegression\n",
    "from sklearn.impute import SimpleImputer\n",
    "import matplotlib.pyplot as plt  # To visualize"
   ]
  },
  {
   "source": [
    "Here, we read in the data and create an empty list that we'll use to concatenate together the final results into a pandas dataframe."
   ],
   "cell_type": "markdown",
   "metadata": {}
  },
  {
   "cell_type": "code",
   "execution_count": null,
   "metadata": {},
   "outputs": [],
   "source": [
    "# Read in data.\n",
    "data = pd.read_csv(\"./data-combined.csv\")\n",
    "\n",
    "# A list that will store rows for the final export.\n",
    "parts = []"
   ]
  },
  {
   "source": [
    "# For each measure...\n",
    "for col in range(20):\n",
    "    \n",
    "    # ...prepare the data...\n",
    "    measure = data.columns[3+col]\n",
    "    X = data.iloc[:, 2].values.reshape(-1, 1)  # values converts it into a numpy array\n",
    "    Y = data.iloc[:, 3+col].values.reshape(-1, 1)  # -1 means that calculate the dimension of rows, but have 1 column\n",
    "\n",
    "    # (this handles any blank or N/A values in the data.)\n",
    "    imputer = SimpleImputer()\n",
    "    Y = imputer.fit_transform(Y)\n",
    "\n",
    "    # ...then do a linear regression...\n",
    "    linear_regressor = LinearRegression()\n",
    "    reg = linear_regressor.fit(X.astype(float), Y.astype(float))\n",
    "    score = reg.score(X, Y)\n",
    "\n",
    "    # ..and finally put into a new dataframe that will be concatenated together at the end.\n",
    "    row = pd.DataFrame([[measure, score]])\n",
    "    parts.append(row)\n"
   ],
   "cell_type": "code",
   "metadata": {},
   "execution_count": null,
   "outputs": []
  },
  {
   "source": [
    "Finally, we'll bring it all together into a dataframe to export."
   ],
   "cell_type": "markdown",
   "metadata": {}
  },
  {
   "cell_type": "code",
   "execution_count": null,
   "metadata": {},
   "outputs": [],
   "source": [
    "# Put everything in our parts list together into a dataframe for export.\n",
    "results = pd.concat(parts)\n",
    "results.reset_index(drop=True, inplace=True)\n",
    "\n",
    "# Save and print it.\n",
    "results.to_csv(\"./results.csv\")\n",
    "print(results)"
   ]
  },
  {
   "source": [
    "-30-"
   ],
   "cell_type": "markdown",
   "metadata": {}
  }
 ]
}